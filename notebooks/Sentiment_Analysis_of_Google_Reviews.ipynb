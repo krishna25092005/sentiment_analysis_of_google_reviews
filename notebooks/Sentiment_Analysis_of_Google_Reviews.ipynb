{
 "cells": [
  {
   "cell_type": "markdown",
   "metadata": {},
   "source": [
    "# Sentiment Analysis of Google Reviews"
   ]
  },
  {
   "cell_type": "code",
   "execution_count": 2,
   "metadata": {
    "colab": {
     "base_uri": "https://localhost:8080/"
    },
    "id": "WYeyBz9KZDII",
    "outputId": "bdde63f8-1469-4623-ff7d-bc2b96a98bc4"
   },
   "outputs": [
    {
     "name": "stderr",
     "output_type": "stream",
     "text": [
      "Downloading...\n",
      "From: https://drive.google.com/uc?id=1FZXoO3-sfFBol2UbQWtvaXDmaQZ0ZgkD\n",
      "To: C:\\Users\\Rishi\\Sentiment Analysis\\reviews.csv\n",
      "100%|█████████████████████████████████████████████████████████████████████████████| 9.00M/9.00M [00:02<00:00, 3.27MB/s]\n"
     ]
    }
   ],
   "source": [
    "import gdown\n",
    "import pandas as pd\n",
    "\n",
    "# URL for the file from Google Drive\n",
    "file_url = 'https://drive.google.com/uc?id=1FZXoO3-sfFBol2UbQWtvaXDmaQZ0ZgkD'  # Replace with your actual file ID.\n",
    "\n",
    "# Download the file using gdown\n",
    "gdown.download(file_url, 'reviews.csv', quiet=False)\n",
    "\n",
    "# Now, read the file into a pandas DataFrame\n",
    "df = pd.read_csv('reviews.csv')"
   ]
  },
  {
   "cell_type": "code",
   "execution_count": 3,
   "metadata": {
    "colab": {
     "base_uri": "https://localhost:8080/",
     "height": 503
    },
    "id": "Z_ui8tLmrzS3",
    "outputId": "ab9a4951-7fe7-4728-9611-a39c208170fe"
   },
   "outputs": [
    {
     "data": {
      "text/html": [
       "<div>\n",
       "<style scoped>\n",
       "    .dataframe tbody tr th:only-of-type {\n",
       "        vertical-align: middle;\n",
       "    }\n",
       "\n",
       "    .dataframe tbody tr th {\n",
       "        vertical-align: top;\n",
       "    }\n",
       "\n",
       "    .dataframe thead th {\n",
       "        text-align: right;\n",
       "    }\n",
       "</style>\n",
       "<table border=\"1\" class=\"dataframe\">\n",
       "  <thead>\n",
       "    <tr style=\"text-align: right;\">\n",
       "      <th></th>\n",
       "      <th>reviewId</th>\n",
       "      <th>userName</th>\n",
       "      <th>userImage</th>\n",
       "      <th>content</th>\n",
       "      <th>score</th>\n",
       "      <th>thumbsUpCount</th>\n",
       "      <th>reviewCreatedVersion</th>\n",
       "      <th>at</th>\n",
       "      <th>replyContent</th>\n",
       "      <th>repliedAt</th>\n",
       "      <th>sortOrder</th>\n",
       "      <th>appId</th>\n",
       "    </tr>\n",
       "  </thead>\n",
       "  <tbody>\n",
       "    <tr>\n",
       "      <th>0</th>\n",
       "      <td>gp:AOqpTOHNHm4OfbjkxEXXa51JwZEHAaDlvfSgN0OU256...</td>\n",
       "      <td>Lex S</td>\n",
       "      <td>https://lh3.googleusercontent.com/-FgDpDeEJLAw...</td>\n",
       "      <td>I love this app, but I do have one major gripe...</td>\n",
       "      <td>1</td>\n",
       "      <td>3</td>\n",
       "      <td>5.2.0.23</td>\n",
       "      <td>2020-08-05 16:22:04</td>\n",
       "      <td>Any.do is not only a product but also a servic...</td>\n",
       "      <td>2020-08-05 08:02:08</td>\n",
       "      <td>most_relevant</td>\n",
       "      <td>com.anydo</td>\n",
       "    </tr>\n",
       "    <tr>\n",
       "      <th>1</th>\n",
       "      <td>gp:AOqpTOEujjLj56XVqumAkipImEqIAU3qTIuQjENPaOK...</td>\n",
       "      <td>Sam van Dijk</td>\n",
       "      <td>https://lh3.googleusercontent.com/-pO3wTIb4myA...</td>\n",
       "      <td>Trash. Yes, it has some nice nifty features bu...</td>\n",
       "      <td>1</td>\n",
       "      <td>25</td>\n",
       "      <td>5.2.0.23</td>\n",
       "      <td>2020-07-21 22:17:25</td>\n",
       "      <td>Premium users can edit, create and delete tags...</td>\n",
       "      <td>2020-07-23 15:57:51</td>\n",
       "      <td>most_relevant</td>\n",
       "      <td>com.anydo</td>\n",
       "    </tr>\n",
       "    <tr>\n",
       "      <th>2</th>\n",
       "      <td>gp:AOqpTOElISilniODwd6UBrqFngzTtDHLF-G0VLpR2_y...</td>\n",
       "      <td>Hugo Bounoua</td>\n",
       "      <td>https://lh3.googleusercontent.com/a-/AOh14GgxG...</td>\n",
       "      <td>OMG the UI is awful, seriously you have popup ...</td>\n",
       "      <td>1</td>\n",
       "      <td>8</td>\n",
       "      <td>5.2.0.23</td>\n",
       "      <td>2020-07-22 07:23:35</td>\n",
       "      <td>The Premium ad only shows up when first openin...</td>\n",
       "      <td>2020-07-23 16:20:43</td>\n",
       "      <td>most_relevant</td>\n",
       "      <td>com.anydo</td>\n",
       "    </tr>\n",
       "    <tr>\n",
       "      <th>3</th>\n",
       "      <td>gp:AOqpTOEkZ75JR5CzVhxoxWa0XVmPanw_pEl1srcJ7yv...</td>\n",
       "      <td>Aishwarya Mishra</td>\n",
       "      <td>https://lh3.googleusercontent.com/a-/AOh14Ghhq...</td>\n",
       "      <td>I've been using the app for a while and since ...</td>\n",
       "      <td>1</td>\n",
       "      <td>20</td>\n",
       "      <td>5.2.0.23</td>\n",
       "      <td>2020-07-19 06:49:15</td>\n",
       "      <td>Hi, due to new restrictions from Google, the p...</td>\n",
       "      <td>2020-07-22 14:05:56</td>\n",
       "      <td>most_relevant</td>\n",
       "      <td>com.anydo</td>\n",
       "    </tr>\n",
       "    <tr>\n",
       "      <th>4</th>\n",
       "      <td>gp:AOqpTOEtpLcODD_NZOBqR1N7DBbaLdw3Gyz3v3xZAp1...</td>\n",
       "      <td>Mad Scientist</td>\n",
       "      <td>https://lh3.googleusercontent.com/-kIZF4kMt6yY...</td>\n",
       "      <td>Unable to register with an email. Clicking\"con...</td>\n",
       "      <td>1</td>\n",
       "      <td>77</td>\n",
       "      <td>5.2.0.9</td>\n",
       "      <td>2020-07-10 17:59:22</td>\n",
       "      <td>We are unaware of any issues with signing in t...</td>\n",
       "      <td>2020-07-12 08:02:19</td>\n",
       "      <td>most_relevant</td>\n",
       "      <td>com.anydo</td>\n",
       "    </tr>\n",
       "  </tbody>\n",
       "</table>\n",
       "</div>"
      ],
      "text/plain": [
       "                                            reviewId          userName  \\\n",
       "0  gp:AOqpTOHNHm4OfbjkxEXXa51JwZEHAaDlvfSgN0OU256...             Lex S   \n",
       "1  gp:AOqpTOEujjLj56XVqumAkipImEqIAU3qTIuQjENPaOK...      Sam van Dijk   \n",
       "2  gp:AOqpTOElISilniODwd6UBrqFngzTtDHLF-G0VLpR2_y...      Hugo Bounoua   \n",
       "3  gp:AOqpTOEkZ75JR5CzVhxoxWa0XVmPanw_pEl1srcJ7yv...  Aishwarya Mishra   \n",
       "4  gp:AOqpTOEtpLcODD_NZOBqR1N7DBbaLdw3Gyz3v3xZAp1...     Mad Scientist   \n",
       "\n",
       "                                           userImage  \\\n",
       "0  https://lh3.googleusercontent.com/-FgDpDeEJLAw...   \n",
       "1  https://lh3.googleusercontent.com/-pO3wTIb4myA...   \n",
       "2  https://lh3.googleusercontent.com/a-/AOh14GgxG...   \n",
       "3  https://lh3.googleusercontent.com/a-/AOh14Ghhq...   \n",
       "4  https://lh3.googleusercontent.com/-kIZF4kMt6yY...   \n",
       "\n",
       "                                             content  score  thumbsUpCount  \\\n",
       "0  I love this app, but I do have one major gripe...      1              3   \n",
       "1  Trash. Yes, it has some nice nifty features bu...      1             25   \n",
       "2  OMG the UI is awful, seriously you have popup ...      1              8   \n",
       "3  I've been using the app for a while and since ...      1             20   \n",
       "4  Unable to register with an email. Clicking\"con...      1             77   \n",
       "\n",
       "  reviewCreatedVersion                   at  \\\n",
       "0             5.2.0.23  2020-08-05 16:22:04   \n",
       "1             5.2.0.23  2020-07-21 22:17:25   \n",
       "2             5.2.0.23  2020-07-22 07:23:35   \n",
       "3             5.2.0.23  2020-07-19 06:49:15   \n",
       "4              5.2.0.9  2020-07-10 17:59:22   \n",
       "\n",
       "                                        replyContent            repliedAt  \\\n",
       "0  Any.do is not only a product but also a servic...  2020-08-05 08:02:08   \n",
       "1  Premium users can edit, create and delete tags...  2020-07-23 15:57:51   \n",
       "2  The Premium ad only shows up when first openin...  2020-07-23 16:20:43   \n",
       "3  Hi, due to new restrictions from Google, the p...  2020-07-22 14:05:56   \n",
       "4  We are unaware of any issues with signing in t...  2020-07-12 08:02:19   \n",
       "\n",
       "       sortOrder      appId  \n",
       "0  most_relevant  com.anydo  \n",
       "1  most_relevant  com.anydo  \n",
       "2  most_relevant  com.anydo  \n",
       "3  most_relevant  com.anydo  \n",
       "4  most_relevant  com.anydo  "
      ]
     },
     "execution_count": 3,
     "metadata": {},
     "output_type": "execute_result"
    }
   ],
   "source": [
    "df.head()"
   ]
  },
  {
   "cell_type": "markdown",
   "metadata": {
    "id": "75xTScG9tMys"
   },
   "source": [
    "## Exploratory Data Analysis (EDA)"
   ]
  },
  {
   "cell_type": "code",
   "execution_count": 62,
   "metadata": {
    "colab": {
     "base_uri": "https://localhost:8080/",
     "height": 564
    },
    "id": "8xq3DNxnsSdu",
    "outputId": "9ec1fa49-e18f-4e30-9065-f691fe11c6d0"
   },
   "outputs": [
    {
     "data": {
      "image/png": "[encoded data removed]",
      "text/plain": [
       "<Figure size 800x600 with 1 Axes>"
      ]
     },
     "metadata": {},
     "output_type": "display_data"
    }
   ],
   "source": [
    "import matplotlib.pyplot as plt\n",
    "\n",
    "# Plot the distribution of the 'score' column\n",
    "plt.figure(figsize=(8, 6))\n",
    "df['score'].value_counts().sort_index().plot(kind='bar', color='skyblue')\n",
    "plt.title('Distribution of Scores')\n",
    "plt.xlabel('Score')\n",
    "plt.ylabel('Count')\n",
    "plt.xticks(rotation=0)\n",
    "plt.grid(axis='y', linestyle='--', alpha=0.7)\n",
    "plt.show()\n"
   ]
  },
  {
   "cell_type": "code",
   "execution_count": 108,
   "metadata": {
    "colab": {
     "base_uri": "https://localhost:8080/",
     "height": 686
    },
    "id": "x6wNzMjAtWj4",
    "outputId": "73b34fd2-3293-4e96-dee0-0575b754f096"
   },
   "outputs": [
    {
     "name": "stdout",
     "output_type": "stream",
     "text": [
      "\n",
      "Sentiment distribution:\n",
      "sentiment\n",
      "positive    5754\n",
      "negative    5188\n",
      "neutral     5150\n",
      "Name: count, dtype: int64\n"
     ]
    },
    {
     "data": {
      "image/png": "[encoded data removed]",
      "text/plain": [
       "<Figure size 800x600 with 1 Axes>"
      ]
     },
     "metadata": {},
     "output_type": "display_data"
    }
   ],
   "source": [
    "# Step 3: Map scores to sentiment (1, 2 = negative; 3 = neutral; 4, 5 = positive)\n",
    "def map_score_to_sentiment(score):\n",
    "    if score in [1, 2]:\n",
    "        return 'negative'\n",
    "    elif score == 3:\n",
    "        return 'neutral'\n",
    "    else:\n",
    "        return 'positive'\n",
    "\n",
    "df['sentiment'] = df['score'].apply(map_score_to_sentiment)\n",
    "\n",
    "# Step 4: Sentiment distribution\n",
    "print(\"\\nSentiment distribution:\")\n",
    "print(df['sentiment'].value_counts())\n",
    "\n",
    "# Plot the sentiment distribution\n",
    "plt.figure(figsize=(8, 6))\n",
    "df['sentiment'].value_counts().plot(kind='bar', color='lightgreen')\n",
    "plt.title('Sentiment Distribution')\n",
    "plt.xlabel('Sentiment')\n",
    "plt.ylabel('Count')\n",
    "plt.xticks(rotation=0)\n",
    "plt.grid(axis='y', linestyle='--', alpha=0.7)\n",
    "plt.show()"
   ]
  },
  {
   "cell_type": "markdown",
   "metadata": {
    "id": "ACXllyxmwnfV"
   },
   "source": [
    "## Traditional ML Algorithm"
   ]
  },
  {
   "cell_type": "code",
   "execution_count": 65,
   "metadata": {
    "colab": {
     "base_uri": "https://localhost:8080/"
    },
    "id": "-qeEwmBGtsNT",
    "outputId": "747fb487-47a7-4540-bd79-a9c0c27694d2"
   },
   "outputs": [
    {
     "name": "stderr",
     "output_type": "stream",
     "text": [
      "[nltk_data] Downloading package stopwords to\n",
      "[nltk_data]     C:\\Users\\Rishi\\AppData\\Roaming\\nltk_data...\n",
      "[nltk_data]   Package stopwords is already up-to-date!\n",
      "[nltk_data] Downloading package wordnet to\n",
      "[nltk_data]     C:\\Users\\Rishi\\AppData\\Roaming\\nltk_data...\n",
      "[nltk_data]   Package wordnet is already up-to-date!\n"
     ]
    }
   ],
   "source": [
    "import pandas as pd\n",
    "import string\n",
    "from nltk.corpus import stopwords\n",
    "from nltk.stem import PorterStemmer, WordNetLemmatizer\n",
    "from sklearn.feature_extraction.text import TfidfVectorizer\n",
    "from sklearn.naive_bayes import MultinomialNB\n",
    "from sklearn.pipeline import Pipeline\n",
    "from sklearn.model_selection import train_test_split\n",
    "import nltk\n",
    "\n",
    "# Ensure necessary nltk data is downloaded\n",
    "nltk.download('stopwords')\n",
    "nltk.download('wordnet')\n",
    "\n",
    "# Load the data\n",
    "df = pd.read_csv('reviews.csv')\n",
    "\n",
    "# Map the scores to sentiment categories\n",
    "def map_score_to_sentiment(score):\n",
    "    if score in [1, 2]:\n",
    "        return 'negative'\n",
    "    elif score == 3:\n",
    "        return 'neutral'\n",
    "    else:\n",
    "        return 'positive'\n",
    "\n",
    "df['sentiment'] = df['score'].apply(map_score_to_sentiment)\n",
    "\n",
    "# Preprocess the content (lowercase, remove punctuation, stemming, lemmatization)\n",
    "stop_words = set(stopwords.words('english'))\n",
    "stemmer = PorterStemmer()\n",
    "lemmatizer = WordNetLemmatizer()\n",
    "\n",
    "def preprocess_text(text):\n",
    "    # Lowercase\n",
    "    text = text.lower()\n",
    "\n",
    "    # Remove punctuation\n",
    "    text = text.translate(str.maketrans('', '', string.punctuation))\n",
    "\n",
    "    # Tokenize and remove stopwords\n",
    "    tokens = [word for word in text.split() if word not in stop_words]\n",
    "\n",
    "    # Stemming and Lemmatization\n",
    "    tokens = [stemmer.stem(word) for word in tokens]  # Stemming\n",
    "    tokens = [lemmatizer.lemmatize(word) for word in tokens]  # Lemmatization\n",
    "\n",
    "    # Rejoin tokens to form the processed string\n",
    "    return ' '.join(tokens)\n",
    "\n",
    "# Apply preprocessing\n",
    "df['processed_content'] = df['content'].apply(preprocess_text)\n",
    "\n",
    "# Step 1: Create the pipeline\n",
    "pipeline = Pipeline([\n",
    "    ('tfidf', TfidfVectorizer(max_features=5000)),  # Feature extraction using TF-IDF\n",
    "    ('classifier', MultinomialNB())  # Naive Bayes classifier\n",
    "])\n",
    "\n",
    "# Step 2: Split the data\n",
    "X_train, X_test, y_train, y_test = train_test_split(df['processed_content'], df['sentiment'], test_size=0.2, random_state=42)\n",
    "\n",
    "# Step 3: Train the model using the pipeline\n",
    "pipeline.fit(X_train, y_train)\n",
    "\n",
    "# Step 4: Define a function that uses the pipeline to predict sentiment for a given sentence\n",
    "def predict_sentiment(sentence):\n",
    "    # Preprocess the input sentence\n",
    "    processed_sentence = preprocess_text(sentence)\n",
    "    # Predict sentiment using the trained pipeline\n",
    "    prediction = pipeline.predict([processed_sentence])[0]\n",
    "    return prediction\n",
    "\n"
   ]
  },
  {
   "cell_type": "code",
   "execution_count": 96,
   "metadata": {
    "colab": {
     "base_uri": "https://localhost:8080/"
    },
    "id": "JM4vWl4kw96w",
    "outputId": "c3f46541-37c2-4d5f-9060-2e3a0c0cefb7"
   },
   "outputs": [
    {
     "name": "stdin",
     "output_type": "stream",
     "text": [
      "Enter the Review:  I love this app! It's so useful and easy to use.\n"
     ]
    },
    {
     "name": "stdout",
     "output_type": "stream",
     "text": [
      "Sentiment: positive\n"
     ]
    }
   ],
   "source": [
    "# Example usage\n",
    "sentence = input(\"Enter the Review: \")\n",
    "# I love this app! It's so useful and easy to use.\n",
    "# I hate this app! It's so bad and difficult to use.\n",
    "print(f\"Sentiment: {predict_sentiment(sentence)}\")\n",
    "# I love the way you are teaching\n",
    "# never buy this product waste of money\n"
   ]
  },
  {
   "cell_type": "markdown",
   "metadata": {
    "id": "5VhldzYI1A-N"
   },
   "source": [
    "# Generative AI"
   ]
  },
  {
   "cell_type": "code",
   "execution_count": 2,
   "metadata": {
    "id": "Ht8Hv6j4xGIJ"
   },
   "outputs": [],
   "source": [
    "api_key = \"\" # Use your API Key Here"
   ]
  },
  {
   "cell_type": "code",
   "execution_count": 6,
   "metadata": {
    "id": "hXKVBWc22A-G"
   },
   "outputs": [],
   "source": [
    "import google.generativeai as genai\n",
    "import json"
   ]
  },
  {
   "cell_type": "code",
   "execution_count": 7,
   "metadata": {
    "id": "9qFwFV382HnX"
   },
   "outputs": [],
   "source": [
    "genai.configure(api_key=\"\") # Use your API Key Here"
   ]
  },
  {
   "cell_type": "code",
   "execution_count": 71,
   "metadata": {
    "id": "XlXHdx-r2V6U"
   },
   "outputs": [],
   "source": [
    "def get_gemini_repsonse(input):\n",
    "    model=genai.GenerativeModel('gemini-pro')\n",
    "    response=model.generate_content(input)\n",
    "    return response.text"
   ]
  },
  {
   "cell_type": "code",
   "execution_count": 72,
   "metadata": {
    "colab": {
     "base_uri": "https://localhost:8080/",
     "height": 35
    },
    "id": "6HQhr4Ce2XnF",
    "outputId": "49e471f1-c014-4a55-a6bd-68e7349d7d3a"
   },
   "outputs": [
    {
     "data": {
      "text/plain": [
       "'Hello there! How can I assist you today?'"
      ]
     },
     "execution_count": 72,
     "metadata": {},
     "output_type": "execute_result"
    }
   ],
   "source": [
    "get_gemini_repsonse(\"Hi\")"
   ]
  },
  {
   "cell_type": "code",
   "execution_count": 73,
   "metadata": {
    "id": "eLsZlaWA2lma"
   },
   "outputs": [],
   "source": [
    "def build_prompt(text):\n",
    "    input_prompt=f\"\"\"\n",
    "    Analyze the sentiment of the following text.\n",
    "    The sentiment should be classified as one of the following:\n",
    "    'positive', 'neutral', or 'negative'. Provide the sentiment.\n",
    "\n",
    "    Text:{text}\n",
    "\n",
    "    I want the response in one single string having the structure\n",
    "    {{\"sentiment\":\"%\"}}\n",
    "    \"\"\"\n",
    "    return input_prompt"
   ]
  },
  {
   "cell_type": "code",
   "execution_count": 74,
   "metadata": {
    "colab": {
     "base_uri": "https://localhost:8080/"
    },
    "id": "yJCiOU3G22wr",
    "outputId": "22d2d10d-d3d7-4648-d4e1-ee40011f5a07"
   },
   "outputs": [
    {
     "name": "stdin",
     "output_type": "stream",
     "text": [
      "Enter the Review \n",
      " I hate this app! It's so bad and difficult to use.\n"
     ]
    }
   ],
   "source": [
    "sentence = input(\"Enter the Review \\n\")"
   ]
  },
  {
   "cell_type": "code",
   "execution_count": 75,
   "metadata": {
    "colab": {
     "base_uri": "https://localhost:8080/",
     "height": 35
    },
    "id": "RyETRnlC27HK",
    "outputId": "79188302-949b-480a-89b6-b4f0db935898"
   },
   "outputs": [
    {
     "data": {
      "text/plain": [
       "\"I hate this app! It's so bad and difficult to use.\""
      ]
     },
     "execution_count": 75,
     "metadata": {},
     "output_type": "execute_result"
    }
   ],
   "source": [
    "# this is something i truly love about scaler. Masterclasses is helpful and everyone can learn many topics. This is mindblowing\n",
    "sentence"
   ]
  },
  {
   "cell_type": "code",
   "execution_count": 76,
   "metadata": {
    "id": "DCz3MVuj3NjT"
   },
   "outputs": [],
   "source": [
    "input_prompt = build_prompt(sentence)"
   ]
  },
  {
   "cell_type": "code",
   "execution_count": 77,
   "metadata": {
    "colab": {
     "base_uri": "https://localhost:8080/"
    },
    "id": "wZfuIFHN3VYX",
    "outputId": "608e18c4-b542-4564-9d1f-548f91be9f28"
   },
   "outputs": [
    {
     "name": "stdout",
     "output_type": "stream",
     "text": [
      "\n",
      "    Analyze the sentiment of the following text.\n",
      "    The sentiment should be classified as one of the following:\n",
      "    'positive', 'neutral', or 'negative'. Provide the sentiment.\n",
      "\n",
      "    Text:I hate this app! It's so bad and difficult to use.\n",
      "\n",
      "    I want the response in one single string having the structure\n",
      "    {\"sentiment\":\"%\"}\n",
      "    \n"
     ]
    }
   ],
   "source": [
    "print(input_prompt)"
   ]
  },
  {
   "cell_type": "code",
   "execution_count": 78,
   "metadata": {
    "colab": {
     "base_uri": "https://localhost:8080/",
     "height": 35
    },
    "id": "mq1u1jMQ3XRn",
    "outputId": "ae7b5dd8-0ebf-44fa-8146-da3b3e174a74"
   },
   "outputs": [
    {
     "data": {
      "text/plain": [
       "'{\"sentiment\":\"negative\"}'"
      ]
     },
     "execution_count": 78,
     "metadata": {},
     "output_type": "execute_result"
    }
   ],
   "source": [
    "response=get_gemini_repsonse(input_prompt)\n",
    "response"
   ]
  }
 ],
 "metadata": {
  "colab": {
   "provenance": []
  },
  "kernelspec": {
   "display_name": "Python 3 (ipykernel)",
   "language": "python",
   "name": "python3"
  },
  "language_info": {
   "codemirror_mode": {
    "name": "ipython",
    "version": 3
   },
   "file_extension": ".py",
   "mimetype": "text/x-python",
   "name": "python",
   "nbconvert_exporter": "python",
   "pygments_lexer": "ipython3",
   "version": "3.12.4"
  }
 },
 "nbformat": 4,
 "nbformat_minor": 4
}
